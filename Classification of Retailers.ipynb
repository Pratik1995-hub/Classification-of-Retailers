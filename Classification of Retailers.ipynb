{
 "cells": [
  {
   "cell_type": "markdown",
   "metadata": {},
   "source": [
    "## ----------------------------------  Classification of Retailers  -----------------------------------"
   ]
  },
  {
   "cell_type": "code",
   "execution_count": 1,
   "metadata": {},
   "outputs": [],
   "source": [
    "import numpy as np\n",
    "import pandas as pd\n",
    "\n",
    "from sklearn.cluster import KMeans\n",
    "\n",
    "import seaborn as sns\n",
    "import matplotlib.pyplot as plt"
   ]
  },
  {
   "cell_type": "code",
   "execution_count": 2,
   "metadata": {},
   "outputs": [],
   "source": [
    "data = pd.read_excel(\"C:\\\\Users\\\\91969\\\\Desktop\\\\Markytics\\\\Case Study Data 1.xlsx\")"
   ]
  },
  {
   "cell_type": "code",
   "execution_count": 3,
   "metadata": {},
   "outputs": [
    {
     "data": {
      "text/html": [
       "<div>\n",
       "<style scoped>\n",
       "    .dataframe tbody tr th:only-of-type {\n",
       "        vertical-align: middle;\n",
       "    }\n",
       "\n",
       "    .dataframe tbody tr th {\n",
       "        vertical-align: top;\n",
       "    }\n",
       "\n",
       "    .dataframe thead th {\n",
       "        text-align: right;\n",
       "    }\n",
       "</style>\n",
       "<table border=\"1\" class=\"dataframe\">\n",
       "  <thead>\n",
       "    <tr style=\"text-align: right;\">\n",
       "      <th></th>\n",
       "      <th>Retailer Name</th>\n",
       "      <th>Brand1</th>\n",
       "      <th>Brand2</th>\n",
       "      <th>Brand3</th>\n",
       "      <th>Brand4</th>\n",
       "      <th>Brand5</th>\n",
       "      <th>Brand6</th>\n",
       "      <th>Brand7</th>\n",
       "      <th>Brand8</th>\n",
       "      <th>Brand9</th>\n",
       "      <th>Brand10</th>\n",
       "      <th>Brand11</th>\n",
       "      <th>Brand12</th>\n",
       "      <th>Total Sales</th>\n",
       "      <th>Number of Brands</th>\n",
       "      <th>Category of Retailer</th>\n",
       "    </tr>\n",
       "  </thead>\n",
       "  <tbody>\n",
       "    <tr>\n",
       "      <td>0</td>\n",
       "      <td>Retailer 1</td>\n",
       "      <td>0.0000</td>\n",
       "      <td>0.0</td>\n",
       "      <td>0.0</td>\n",
       "      <td>0.000</td>\n",
       "      <td>0.0000</td>\n",
       "      <td>0.0</td>\n",
       "      <td>0.0</td>\n",
       "      <td>0.0</td>\n",
       "      <td>0.000</td>\n",
       "      <td>30826.61</td>\n",
       "      <td>0.0</td>\n",
       "      <td>0.0</td>\n",
       "      <td>30826.6100</td>\n",
       "      <td>1</td>\n",
       "      <td>NaN</td>\n",
       "    </tr>\n",
       "    <tr>\n",
       "      <td>1</td>\n",
       "      <td>Retailer 2</td>\n",
       "      <td>9833.1060</td>\n",
       "      <td>0.0</td>\n",
       "      <td>0.0</td>\n",
       "      <td>24073.632</td>\n",
       "      <td>33806.4312</td>\n",
       "      <td>0.0</td>\n",
       "      <td>0.0</td>\n",
       "      <td>0.0</td>\n",
       "      <td>0.000</td>\n",
       "      <td>0.00</td>\n",
       "      <td>0.0</td>\n",
       "      <td>0.0</td>\n",
       "      <td>67713.1692</td>\n",
       "      <td>3</td>\n",
       "      <td>NaN</td>\n",
       "    </tr>\n",
       "    <tr>\n",
       "      <td>2</td>\n",
       "      <td>Retailer 3</td>\n",
       "      <td>24690.6708</td>\n",
       "      <td>0.0</td>\n",
       "      <td>0.0</td>\n",
       "      <td>0.000</td>\n",
       "      <td>27367.0386</td>\n",
       "      <td>0.0</td>\n",
       "      <td>0.0</td>\n",
       "      <td>0.0</td>\n",
       "      <td>12948.696</td>\n",
       "      <td>0.00</td>\n",
       "      <td>0.0</td>\n",
       "      <td>0.0</td>\n",
       "      <td>65006.4054</td>\n",
       "      <td>3</td>\n",
       "      <td>NaN</td>\n",
       "    </tr>\n",
       "    <tr>\n",
       "      <td>3</td>\n",
       "      <td>Retailer 4</td>\n",
       "      <td>0.0000</td>\n",
       "      <td>0.0</td>\n",
       "      <td>0.0</td>\n",
       "      <td>0.000</td>\n",
       "      <td>0.0000</td>\n",
       "      <td>0.0</td>\n",
       "      <td>0.0</td>\n",
       "      <td>0.0</td>\n",
       "      <td>0.000</td>\n",
       "      <td>0.00</td>\n",
       "      <td>0.0</td>\n",
       "      <td>0.0</td>\n",
       "      <td>0.0000</td>\n",
       "      <td>0</td>\n",
       "      <td>NaN</td>\n",
       "    </tr>\n",
       "    <tr>\n",
       "      <td>4</td>\n",
       "      <td>Retailer 5</td>\n",
       "      <td>0.0000</td>\n",
       "      <td>0.0</td>\n",
       "      <td>0.0</td>\n",
       "      <td>0.000</td>\n",
       "      <td>0.0000</td>\n",
       "      <td>0.0</td>\n",
       "      <td>0.0</td>\n",
       "      <td>0.0</td>\n",
       "      <td>0.000</td>\n",
       "      <td>0.00</td>\n",
       "      <td>0.0</td>\n",
       "      <td>0.0</td>\n",
       "      <td>0.0000</td>\n",
       "      <td>0</td>\n",
       "      <td>NaN</td>\n",
       "    </tr>\n",
       "  </tbody>\n",
       "</table>\n",
       "</div>"
      ],
      "text/plain": [
       "  Retailer Name      Brand1  Brand2  Brand3     Brand4      Brand5  Brand6  \\\n",
       "0    Retailer 1      0.0000     0.0     0.0      0.000      0.0000     0.0   \n",
       "1    Retailer 2   9833.1060     0.0     0.0  24073.632  33806.4312     0.0   \n",
       "2    Retailer 3  24690.6708     0.0     0.0      0.000  27367.0386     0.0   \n",
       "3    Retailer 4      0.0000     0.0     0.0      0.000      0.0000     0.0   \n",
       "4    Retailer 5      0.0000     0.0     0.0      0.000      0.0000     0.0   \n",
       "\n",
       "   Brand7  Brand8     Brand9   Brand10  Brand11  Brand12  Total Sales  \\\n",
       "0     0.0     0.0      0.000  30826.61      0.0      0.0   30826.6100   \n",
       "1     0.0     0.0      0.000      0.00      0.0      0.0   67713.1692   \n",
       "2     0.0     0.0  12948.696      0.00      0.0      0.0   65006.4054   \n",
       "3     0.0     0.0      0.000      0.00      0.0      0.0       0.0000   \n",
       "4     0.0     0.0      0.000      0.00      0.0      0.0       0.0000   \n",
       "\n",
       "   Number of Brands  Category of Retailer  \n",
       "0                 1                   NaN  \n",
       "1                 3                   NaN  \n",
       "2                 3                   NaN  \n",
       "3                 0                   NaN  \n",
       "4                 0                   NaN  "
      ]
     },
     "execution_count": 3,
     "metadata": {},
     "output_type": "execute_result"
    }
   ],
   "source": [
    "data.head()"
   ]
  },
  {
   "cell_type": "markdown",
   "metadata": {},
   "source": [
    "##### Retailer Name : There are total 9938 unique retailers in this area\n",
    "##### Brands : Total 12 different brands can be sold to retailer \n",
    "##### Total Sales : This is sum total of sales of all brands \n",
    "##### Number of Brands : Total number of unique brands purchased by retailers\n",
    "##### Values are in Rupees for Brands Sales and Total Sales"
   ]
  },
  {
   "cell_type": "code",
   "execution_count": 4,
   "metadata": {},
   "outputs": [
    {
     "data": {
      "text/plain": [
       "0    6449\n",
       "1    1453\n",
       "2     717\n",
       "3     577\n",
       "4     355\n",
       "5     213\n",
       "6     103\n",
       "7      55\n",
       "8      14\n",
       "9       2\n",
       "Name: Number of Brands, dtype: int64"
      ]
     },
     "execution_count": 4,
     "metadata": {},
     "output_type": "execute_result"
    }
   ],
   "source": [
    "### To show highest frequency in Number of Brands cloumn\n",
    "\n",
    "data[\"Number of Brands\"].value_counts()"
   ]
  },
  {
   "cell_type": "code",
   "execution_count": 6,
   "metadata": {},
   "outputs": [
    {
     "data": {
      "text/plain": [
       "<matplotlib.axes._subplots.AxesSubplot at 0x13ba872d648>"
      ]
     },
     "execution_count": 6,
     "metadata": {},
     "output_type": "execute_result"
    },
    {
     "data": {
      "image/png": "[encoded data removed]",
      "text/plain": [
       "<Figure size 432x288 with 1 Axes>"
      ]
     },
     "metadata": {
      "needs_background": "light"
     },
     "output_type": "display_data"
    }
   ],
   "source": [
    "sns.distplot(data[\"Number of Brands\"])"
   ]
  },
  {
   "cell_type": "markdown",
   "metadata": {},
   "source": [
    "### To Find 3-Cluster using KMeans"
   ]
  },
  {
   "cell_type": "code",
   "execution_count": 7,
   "metadata": {},
   "outputs": [
    {
     "name": "stdout",
     "output_type": "stream",
     "text": [
      "[[30826.609999999997 1]\n",
      " [67713.16919999999 3]\n",
      " [65006.405399999996 3]\n",
      " ...\n",
      " [0.0 0]\n",
      " [48324.57399999999 2]\n",
      " [0.0 0]]\n"
     ]
    }
   ],
   "source": [
    "X = data.values[:,[-3,-2]]              ## Selecting \"Total Sales\" and \"Number of Brands\" columns\n",
    "print(X)"
   ]
  },
  {
   "cell_type": "code",
   "execution_count": 8,
   "metadata": {},
   "outputs": [
    {
     "name": "stdout",
     "output_type": "stream",
     "text": [
      "[[1]\n",
      " [3]\n",
      " [3]\n",
      " ...\n",
      " [0]\n",
      " [2]\n",
      " [0]]\n"
     ]
    }
   ],
   "source": [
    "X_new=X[:,1]                           ## Selecting \"Number of Brands\" and reshaping into the row form\n",
    "X_new=np.reshape(X_new,(-1,1))\n",
    "print(X_new)"
   ]
  },
  {
   "cell_type": "code",
   "execution_count": 9,
   "metadata": {},
   "outputs": [
    {
     "name": "stdout",
     "output_type": "stream",
     "text": [
      "[0 2 2 ... 0 2 0]\n"
     ]
    }
   ],
   "source": [
    "kmeans = KMeans(n_clusters=3,random_state=10)\n",
    "clusters = kmeans.fit_predict(X_new)\n",
    "print(clusters)"
   ]
  },
  {
   "cell_type": "code",
   "execution_count": 10,
   "metadata": {},
   "outputs": [
    {
     "data": {
      "text/plain": [
       "<Figure size 720x504 with 0 Axes>"
      ]
     },
     "metadata": {},
     "output_type": "display_data"
    }
   ],
   "source": [
    "fig = plt.figure(figsize=(10, 7))"
   ]
  },
  {
   "cell_type": "code",
   "execution_count": 11,
   "metadata": {},
   "outputs": [
    {
     "data": {
      "text/plain": [
       "<matplotlib.collections.PathCollection at 0x13ba9e40148>"
      ]
     },
     "execution_count": 11,
     "metadata": {},
     "output_type": "execute_result"
    },
    {
     "data": {
      "image/png": "[encoded data removed]",
      "text/plain": [
       "<Figure size 432x288 with 1 Axes>"
      ]
     },
     "metadata": {
      "needs_background": "light"
     },
     "output_type": "display_data"
    }
   ],
   "source": [
    "plt.scatter(X[clusters == 0, 1], X[clusters == 0, 0], s = 100, c = \"red\", label = \"Cluster1\")\n",
    "plt.scatter(X[clusters == 1, 1], X[clusters == 1, 0], s = 100, c = \"blue\", label = \"Cluster2\")\n",
    "plt.scatter(X[clusters == 2, 1], X[clusters == 2, 0], s = 100, c = \"green\", label = \"Cluster3\")"
   ]
  },
  {
   "cell_type": "code",
   "execution_count": 12,
   "metadata": {},
   "outputs": [
    {
     "data": {
      "text/plain": [
       "<Figure size 720x504 with 0 Axes>"
      ]
     },
     "metadata": {},
     "output_type": "display_data"
    }
   ],
   "source": [
    "fig = plt.figure(figsize=(10, 7))"
   ]
  },
  {
   "cell_type": "markdown",
   "metadata": {},
   "source": [
    "##### Renaming the cluster number to Category A , B & C and aslo changes in color as par our power point sheet \n",
    "##### Retailers can be classified as Category A, B & C. \n",
    "##### Category A retailers are one who place regular orders and Category C are one who place irregular orders.\n",
    "\n",
    "##### Cluster = 0 (Categoty C)\n",
    "##### Cluster = 1 (Categoty A)\n",
    "##### Cluster = 2 (Categoty B)"
   ]
  },
  {
   "cell_type": "code",
   "execution_count": 14,
   "metadata": {},
   "outputs": [
    {
     "data": {
      "text/plain": [
       "<matplotlib.collections.PathCollection at 0x13ba9f10e08>"
      ]
     },
     "execution_count": 14,
     "metadata": {},
     "output_type": "execute_result"
    },
    {
     "data": {
      "image/png": "[encoded data removed]",
      "text/plain": [
       "<Figure size 432x288 with 1 Axes>"
      ]
     },
     "metadata": {
      "needs_background": "light"
     },
     "output_type": "display_data"
    }
   ],
   "source": [
    "plt.scatter(X[clusters == 1, 1], X[clusters == 1, 0], s = 100, c = \"red\", label = \"Category A\")\n",
    "plt.scatter(X[clusters == 2, 1], X[clusters == 2, 0], s = 100, c = \"orange\", label = \"Category B\")\n",
    "plt.scatter(X[clusters == 0, 1], X[clusters == 0, 0], s = 100, c = \"blue\", label = \"Category C\")"
   ]
  },
  {
   "cell_type": "code",
   "execution_count": 15,
   "metadata": {},
   "outputs": [],
   "source": [
    "### Substituting the cluster to the data file\n",
    "\n",
    "data['Category of Retailer'] =clusters"
   ]
  },
  {
   "cell_type": "code",
   "execution_count": 16,
   "metadata": {},
   "outputs": [
    {
     "data": {
      "text/html": [
       "<div>\n",
       "<style scoped>\n",
       "    .dataframe tbody tr th:only-of-type {\n",
       "        vertical-align: middle;\n",
       "    }\n",
       "\n",
       "    .dataframe tbody tr th {\n",
       "        vertical-align: top;\n",
       "    }\n",
       "\n",
       "    .dataframe thead th {\n",
       "        text-align: right;\n",
       "    }\n",
       "</style>\n",
       "<table border=\"1\" class=\"dataframe\">\n",
       "  <thead>\n",
       "    <tr style=\"text-align: right;\">\n",
       "      <th></th>\n",
       "      <th>Retailer Name</th>\n",
       "      <th>Brand1</th>\n",
       "      <th>Brand2</th>\n",
       "      <th>Brand3</th>\n",
       "      <th>Brand4</th>\n",
       "      <th>Brand5</th>\n",
       "      <th>Brand6</th>\n",
       "      <th>Brand7</th>\n",
       "      <th>Brand8</th>\n",
       "      <th>Brand9</th>\n",
       "      <th>Brand10</th>\n",
       "      <th>Brand11</th>\n",
       "      <th>Brand12</th>\n",
       "      <th>Total Sales</th>\n",
       "      <th>Number of Brands</th>\n",
       "      <th>Category of Retailer</th>\n",
       "    </tr>\n",
       "  </thead>\n",
       "  <tbody>\n",
       "    <tr>\n",
       "      <td>0</td>\n",
       "      <td>Retailer 1</td>\n",
       "      <td>0.000</td>\n",
       "      <td>0.0</td>\n",
       "      <td>0.0</td>\n",
       "      <td>0.000</td>\n",
       "      <td>0.0000</td>\n",
       "      <td>0.0</td>\n",
       "      <td>0.0</td>\n",
       "      <td>0.0</td>\n",
       "      <td>0.0</td>\n",
       "      <td>30826.61</td>\n",
       "      <td>0.0</td>\n",
       "      <td>0.0</td>\n",
       "      <td>30826.6100</td>\n",
       "      <td>1</td>\n",
       "      <td>0</td>\n",
       "    </tr>\n",
       "    <tr>\n",
       "      <td>1</td>\n",
       "      <td>Retailer 2</td>\n",
       "      <td>9833.106</td>\n",
       "      <td>0.0</td>\n",
       "      <td>0.0</td>\n",
       "      <td>24073.632</td>\n",
       "      <td>33806.4312</td>\n",
       "      <td>0.0</td>\n",
       "      <td>0.0</td>\n",
       "      <td>0.0</td>\n",
       "      <td>0.0</td>\n",
       "      <td>0.00</td>\n",
       "      <td>0.0</td>\n",
       "      <td>0.0</td>\n",
       "      <td>67713.1692</td>\n",
       "      <td>3</td>\n",
       "      <td>2</td>\n",
       "    </tr>\n",
       "  </tbody>\n",
       "</table>\n",
       "</div>"
      ],
      "text/plain": [
       "  Retailer Name    Brand1  Brand2  Brand3     Brand4      Brand5  Brand6  \\\n",
       "0    Retailer 1     0.000     0.0     0.0      0.000      0.0000     0.0   \n",
       "1    Retailer 2  9833.106     0.0     0.0  24073.632  33806.4312     0.0   \n",
       "\n",
       "   Brand7  Brand8  Brand9   Brand10  Brand11  Brand12  Total Sales  \\\n",
       "0     0.0     0.0     0.0  30826.61      0.0      0.0   30826.6100   \n",
       "1     0.0     0.0     0.0      0.00      0.0      0.0   67713.1692   \n",
       "\n",
       "   Number of Brands  Category of Retailer  \n",
       "0                 1                     0  \n",
       "1                 3                     2  "
      ]
     },
     "execution_count": 16,
     "metadata": {},
     "output_type": "execute_result"
    }
   ],
   "source": [
    "data.head(2)"
   ]
  },
  {
   "cell_type": "code",
   "execution_count": 17,
   "metadata": {},
   "outputs": [],
   "source": [
    "##  Renaming the cluster number to Category A , B & C in the data file\n",
    "\n",
    "data['Category of Retailer']=data['Category of Retailer'].map({0:'Category C' , 1:'Category A' , 2:'Category B'})"
   ]
  },
  {
   "cell_type": "code",
   "execution_count": 18,
   "metadata": {},
   "outputs": [
    {
     "data": {
      "text/html": [
       "<div>\n",
       "<style scoped>\n",
       "    .dataframe tbody tr th:only-of-type {\n",
       "        vertical-align: middle;\n",
       "    }\n",
       "\n",
       "    .dataframe tbody tr th {\n",
       "        vertical-align: top;\n",
       "    }\n",
       "\n",
       "    .dataframe thead th {\n",
       "        text-align: right;\n",
       "    }\n",
       "</style>\n",
       "<table border=\"1\" class=\"dataframe\">\n",
       "  <thead>\n",
       "    <tr style=\"text-align: right;\">\n",
       "      <th></th>\n",
       "      <th>Retailer Name</th>\n",
       "      <th>Brand1</th>\n",
       "      <th>Brand2</th>\n",
       "      <th>Brand3</th>\n",
       "      <th>Brand4</th>\n",
       "      <th>Brand5</th>\n",
       "      <th>Brand6</th>\n",
       "      <th>Brand7</th>\n",
       "      <th>Brand8</th>\n",
       "      <th>Brand9</th>\n",
       "      <th>Brand10</th>\n",
       "      <th>Brand11</th>\n",
       "      <th>Brand12</th>\n",
       "      <th>Total Sales</th>\n",
       "      <th>Number of Brands</th>\n",
       "      <th>Category of Retailer</th>\n",
       "    </tr>\n",
       "  </thead>\n",
       "  <tbody>\n",
       "    <tr>\n",
       "      <td>0</td>\n",
       "      <td>Retailer 1</td>\n",
       "      <td>0.000</td>\n",
       "      <td>0.0</td>\n",
       "      <td>0.0</td>\n",
       "      <td>0.000</td>\n",
       "      <td>0.0000</td>\n",
       "      <td>0.0</td>\n",
       "      <td>0.0</td>\n",
       "      <td>0.0</td>\n",
       "      <td>0.0</td>\n",
       "      <td>30826.61</td>\n",
       "      <td>0.0</td>\n",
       "      <td>0.0</td>\n",
       "      <td>30826.6100</td>\n",
       "      <td>1</td>\n",
       "      <td>Category C</td>\n",
       "    </tr>\n",
       "    <tr>\n",
       "      <td>1</td>\n",
       "      <td>Retailer 2</td>\n",
       "      <td>9833.106</td>\n",
       "      <td>0.0</td>\n",
       "      <td>0.0</td>\n",
       "      <td>24073.632</td>\n",
       "      <td>33806.4312</td>\n",
       "      <td>0.0</td>\n",
       "      <td>0.0</td>\n",
       "      <td>0.0</td>\n",
       "      <td>0.0</td>\n",
       "      <td>0.00</td>\n",
       "      <td>0.0</td>\n",
       "      <td>0.0</td>\n",
       "      <td>67713.1692</td>\n",
       "      <td>3</td>\n",
       "      <td>Category B</td>\n",
       "    </tr>\n",
       "  </tbody>\n",
       "</table>\n",
       "</div>"
      ],
      "text/plain": [
       "  Retailer Name    Brand1  Brand2  Brand3     Brand4      Brand5  Brand6  \\\n",
       "0    Retailer 1     0.000     0.0     0.0      0.000      0.0000     0.0   \n",
       "1    Retailer 2  9833.106     0.0     0.0  24073.632  33806.4312     0.0   \n",
       "\n",
       "   Brand7  Brand8  Brand9   Brand10  Brand11  Brand12  Total Sales  \\\n",
       "0     0.0     0.0     0.0  30826.61      0.0      0.0   30826.6100   \n",
       "1     0.0     0.0     0.0      0.00      0.0      0.0   67713.1692   \n",
       "\n",
       "   Number of Brands Category of Retailer  \n",
       "0                 1           Category C  \n",
       "1                 3           Category B  "
      ]
     },
     "execution_count": 18,
     "metadata": {},
     "output_type": "execute_result"
    }
   ],
   "source": [
    "data.head(2)"
   ]
  },
  {
   "cell_type": "code",
   "execution_count": 19,
   "metadata": {},
   "outputs": [
    {
     "data": {
      "text/plain": [
       "Category C    7902\n",
       "Category B    1294\n",
       "Category A     742\n",
       "Name: Category of Retailer, dtype: int64"
      ]
     },
     "execution_count": 19,
     "metadata": {},
     "output_type": "execute_result"
    }
   ],
   "source": [
    "data['Category of Retailer'].value_counts()"
   ]
  },
  {
   "cell_type": "markdown",
   "metadata": {},
   "source": [
    "#### Final Submission File"
   ]
  },
  {
   "cell_type": "code",
   "execution_count": 21,
   "metadata": {},
   "outputs": [],
   "source": [
    "data.to_excel(\"category of Retailer.xlsx\")"
   ]
  },
  {
   "cell_type": "markdown",
   "metadata": {},
   "source": [
    "#### Some Extra Analysis Based on Category A , B & C"
   ]
  },
  {
   "cell_type": "code",
   "execution_count": 22,
   "metadata": {},
   "outputs": [
    {
     "data": {
      "text/html": [
       "<div>\n",
       "<style scoped>\n",
       "    .dataframe tbody tr th:only-of-type {\n",
       "        vertical-align: middle;\n",
       "    }\n",
       "\n",
       "    .dataframe tbody tr th {\n",
       "        vertical-align: top;\n",
       "    }\n",
       "\n",
       "    .dataframe thead th {\n",
       "        text-align: right;\n",
       "    }\n",
       "</style>\n",
       "<table border=\"1\" class=\"dataframe\">\n",
       "  <thead>\n",
       "    <tr style=\"text-align: right;\">\n",
       "      <th></th>\n",
       "      <th>Brand1</th>\n",
       "      <th>Brand2</th>\n",
       "      <th>Brand3</th>\n",
       "      <th>Brand4</th>\n",
       "      <th>Brand5</th>\n",
       "      <th>Brand6</th>\n",
       "      <th>Brand7</th>\n",
       "      <th>Brand8</th>\n",
       "      <th>Brand9</th>\n",
       "      <th>Brand10</th>\n",
       "      <th>Brand11</th>\n",
       "      <th>Brand12</th>\n",
       "      <th>Total Sales</th>\n",
       "      <th>Number of Brands</th>\n",
       "    </tr>\n",
       "    <tr>\n",
       "      <th>Category of Retailer</th>\n",
       "      <th></th>\n",
       "      <th></th>\n",
       "      <th></th>\n",
       "      <th></th>\n",
       "      <th></th>\n",
       "      <th></th>\n",
       "      <th></th>\n",
       "      <th></th>\n",
       "      <th></th>\n",
       "      <th></th>\n",
       "      <th></th>\n",
       "      <th></th>\n",
       "      <th></th>\n",
       "      <th></th>\n",
       "    </tr>\n",
       "  </thead>\n",
       "  <tbody>\n",
       "    <tr>\n",
       "      <td>Category A</td>\n",
       "      <td>9550.660114</td>\n",
       "      <td>874.891373</td>\n",
       "      <td>13.166138</td>\n",
       "      <td>9246.610674</td>\n",
       "      <td>15541.883767</td>\n",
       "      <td>5742.440722</td>\n",
       "      <td>11323.913050</td>\n",
       "      <td>3294.142604</td>\n",
       "      <td>15027.700470</td>\n",
       "      <td>8495.143311</td>\n",
       "      <td>5133.595597</td>\n",
       "      <td>824.317399</td>\n",
       "      <td>86297.360751</td>\n",
       "      <td>4.876011</td>\n",
       "    </tr>\n",
       "    <tr>\n",
       "      <td>Category B</td>\n",
       "      <td>5046.712399</td>\n",
       "      <td>387.156718</td>\n",
       "      <td>0.000000</td>\n",
       "      <td>8368.718801</td>\n",
       "      <td>5744.232087</td>\n",
       "      <td>3428.571708</td>\n",
       "      <td>2228.561196</td>\n",
       "      <td>1933.541473</td>\n",
       "      <td>7333.591712</td>\n",
       "      <td>4515.139446</td>\n",
       "      <td>2361.497891</td>\n",
       "      <td>257.176234</td>\n",
       "      <td>42163.537742</td>\n",
       "      <td>2.445904</td>\n",
       "    </tr>\n",
       "    <tr>\n",
       "      <td>Category C</td>\n",
       "      <td>322.901852</td>\n",
       "      <td>53.084654</td>\n",
       "      <td>0.000000</td>\n",
       "      <td>1117.566524</td>\n",
       "      <td>1237.707913</td>\n",
       "      <td>424.474126</td>\n",
       "      <td>61.816355</td>\n",
       "      <td>154.490497</td>\n",
       "      <td>514.648670</td>\n",
       "      <td>492.524893</td>\n",
       "      <td>69.843997</td>\n",
       "      <td>4.921175</td>\n",
       "      <td>4501.748894</td>\n",
       "      <td>0.183877</td>\n",
       "    </tr>\n",
       "  </tbody>\n",
       "</table>\n",
       "</div>"
      ],
      "text/plain": [
       "                           Brand1      Brand2     Brand3       Brand4  \\\n",
       "Category of Retailer                                                    \n",
       "Category A            9550.660114  874.891373  13.166138  9246.610674   \n",
       "Category B            5046.712399  387.156718   0.000000  8368.718801   \n",
       "Category C             322.901852   53.084654   0.000000  1117.566524   \n",
       "\n",
       "                            Brand5       Brand6        Brand7       Brand8  \\\n",
       "Category of Retailer                                                         \n",
       "Category A            15541.883767  5742.440722  11323.913050  3294.142604   \n",
       "Category B             5744.232087  3428.571708   2228.561196  1933.541473   \n",
       "Category C             1237.707913   424.474126     61.816355   154.490497   \n",
       "\n",
       "                            Brand9      Brand10      Brand11     Brand12  \\\n",
       "Category of Retailer                                                       \n",
       "Category A            15027.700470  8495.143311  5133.595597  824.317399   \n",
       "Category B             7333.591712  4515.139446  2361.497891  257.176234   \n",
       "Category C              514.648670   492.524893    69.843997    4.921175   \n",
       "\n",
       "                       Total Sales  Number of Brands  \n",
       "Category of Retailer                                  \n",
       "Category A            86297.360751          4.876011  \n",
       "Category B            42163.537742          2.445904  \n",
       "Category C             4501.748894          0.183877  "
      ]
     },
     "execution_count": 22,
     "metadata": {},
     "output_type": "execute_result"
    }
   ],
   "source": [
    "data.groupby([\"Category of Retailer\"]).mean()"
   ]
  },
  {
   "cell_type": "code",
   "execution_count": 23,
   "metadata": {},
   "outputs": [
    {
     "data": {
      "text/html": [
       "<div>\n",
       "<style scoped>\n",
       "    .dataframe tbody tr th:only-of-type {\n",
       "        vertical-align: middle;\n",
       "    }\n",
       "\n",
       "    .dataframe tbody tr th {\n",
       "        vertical-align: top;\n",
       "    }\n",
       "\n",
       "    .dataframe thead th {\n",
       "        text-align: right;\n",
       "    }\n",
       "</style>\n",
       "<table border=\"1\" class=\"dataframe\">\n",
       "  <thead>\n",
       "    <tr style=\"text-align: right;\">\n",
       "      <th></th>\n",
       "      <th>Brand1</th>\n",
       "      <th>Brand2</th>\n",
       "      <th>Brand3</th>\n",
       "      <th>Brand4</th>\n",
       "      <th>Brand5</th>\n",
       "      <th>Brand6</th>\n",
       "      <th>Brand7</th>\n",
       "      <th>Brand8</th>\n",
       "      <th>Brand9</th>\n",
       "      <th>Brand10</th>\n",
       "      <th>Brand11</th>\n",
       "      <th>Brand12</th>\n",
       "      <th>Total Sales</th>\n",
       "      <th>Number of Brands</th>\n",
       "    </tr>\n",
       "    <tr>\n",
       "      <th>Category of Retailer</th>\n",
       "      <th></th>\n",
       "      <th></th>\n",
       "      <th></th>\n",
       "      <th></th>\n",
       "      <th></th>\n",
       "      <th></th>\n",
       "      <th></th>\n",
       "      <th></th>\n",
       "      <th></th>\n",
       "      <th></th>\n",
       "      <th></th>\n",
       "      <th></th>\n",
       "      <th></th>\n",
       "      <th></th>\n",
       "    </tr>\n",
       "  </thead>\n",
       "  <tbody>\n",
       "    <tr>\n",
       "      <td>Category A</td>\n",
       "      <td>7.086590e+06</td>\n",
       "      <td>649169.3984</td>\n",
       "      <td>9769.2744</td>\n",
       "      <td>6.860985e+06</td>\n",
       "      <td>1.153208e+07</td>\n",
       "      <td>4.260891e+06</td>\n",
       "      <td>8.402343e+06</td>\n",
       "      <td>2.444254e+06</td>\n",
       "      <td>1.115055e+07</td>\n",
       "      <td>6.303396e+06</td>\n",
       "      <td>3.809128e+06</td>\n",
       "      <td>611643.5100</td>\n",
       "      <td>6.403264e+07</td>\n",
       "      <td>3618</td>\n",
       "    </tr>\n",
       "    <tr>\n",
       "      <td>Category B</td>\n",
       "      <td>6.530446e+06</td>\n",
       "      <td>500980.7928</td>\n",
       "      <td>0.0000</td>\n",
       "      <td>1.082912e+07</td>\n",
       "      <td>7.433036e+06</td>\n",
       "      <td>4.436572e+06</td>\n",
       "      <td>2.883758e+06</td>\n",
       "      <td>2.502003e+06</td>\n",
       "      <td>9.489668e+06</td>\n",
       "      <td>5.842590e+06</td>\n",
       "      <td>3.055778e+06</td>\n",
       "      <td>332786.0466</td>\n",
       "      <td>5.455962e+07</td>\n",
       "      <td>3165</td>\n",
       "    </tr>\n",
       "    <tr>\n",
       "      <td>Category C</td>\n",
       "      <td>2.551570e+06</td>\n",
       "      <td>419474.9320</td>\n",
       "      <td>0.0000</td>\n",
       "      <td>8.831011e+06</td>\n",
       "      <td>9.780368e+06</td>\n",
       "      <td>3.354195e+06</td>\n",
       "      <td>4.884728e+05</td>\n",
       "      <td>1.220784e+06</td>\n",
       "      <td>4.066754e+06</td>\n",
       "      <td>3.891932e+06</td>\n",
       "      <td>5.519073e+05</td>\n",
       "      <td>38887.1226</td>\n",
       "      <td>3.557282e+07</td>\n",
       "      <td>1453</td>\n",
       "    </tr>\n",
       "  </tbody>\n",
       "</table>\n",
       "</div>"
      ],
      "text/plain": [
       "                            Brand1       Brand2     Brand3        Brand4  \\\n",
       "Category of Retailer                                                       \n",
       "Category A            7.086590e+06  649169.3984  9769.2744  6.860985e+06   \n",
       "Category B            6.530446e+06  500980.7928     0.0000  1.082912e+07   \n",
       "Category C            2.551570e+06  419474.9320     0.0000  8.831011e+06   \n",
       "\n",
       "                            Brand5        Brand6        Brand7        Brand8  \\\n",
       "Category of Retailer                                                           \n",
       "Category A            1.153208e+07  4.260891e+06  8.402343e+06  2.444254e+06   \n",
       "Category B            7.433036e+06  4.436572e+06  2.883758e+06  2.502003e+06   \n",
       "Category C            9.780368e+06  3.354195e+06  4.884728e+05  1.220784e+06   \n",
       "\n",
       "                            Brand9       Brand10       Brand11      Brand12  \\\n",
       "Category of Retailer                                                          \n",
       "Category A            1.115055e+07  6.303396e+06  3.809128e+06  611643.5100   \n",
       "Category B            9.489668e+06  5.842590e+06  3.055778e+06  332786.0466   \n",
       "Category C            4.066754e+06  3.891932e+06  5.519073e+05   38887.1226   \n",
       "\n",
       "                       Total Sales  Number of Brands  \n",
       "Category of Retailer                                  \n",
       "Category A            6.403264e+07              3618  \n",
       "Category B            5.455962e+07              3165  \n",
       "Category C            3.557282e+07              1453  "
      ]
     },
     "execution_count": 23,
     "metadata": {},
     "output_type": "execute_result"
    }
   ],
   "source": [
    "data.groupby([\"Category of Retailer\"]).sum()"
   ]
  },
  {
   "cell_type": "code",
   "execution_count": null,
   "metadata": {},
   "outputs": [],
   "source": []
  }
 ],
 "metadata": {
  "kernelspec": {
   "display_name": "Python 3",
   "language": "python",
   "name": "python3"
  },
  "language_info": {
   "codemirror_mode": {
    "name": "ipython",
    "version": 3
   },
   "file_extension": ".py",
   "mimetype": "text/x-python",
   "name": "python",
   "nbconvert_exporter": "python",
   "pygments_lexer": "ipython3",
   "version": "3.7.4"
  }
 },
 "nbformat": 4,
 "nbformat_minor": 2
}
